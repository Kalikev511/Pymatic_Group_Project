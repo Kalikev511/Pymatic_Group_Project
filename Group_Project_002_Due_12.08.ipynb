{
 "cells": [
  {
   "cell_type": "markdown",
   "id": "215be4ee-b4f4-428e-983c-725b9af5a53f",
   "metadata": {},
   "source": [
    "# Group Project 002\n",
    "\n",
    "- *Submission Instruction*\n",
    "    - Clearly states your team number, team name, team members' first and last names and their contribution percentages.\n",
    "    - Please include **adequate comments/pseudocodes** in your script. Also, comments should also **highlight the Python concepts you adopted**. \n",
    "    - Team leader is responsible for submitting the script for the team to Canvas. You can submit either a Anaconda Cloud shared link or py/ipynb file. \n",
    "    - Script must be submitted before leaving the classroom.\n",
    "\n",
    "- *Requirements*\n",
    "    -  Must **exclusively** utilize Python concepts and techniques that have been covered in the class.\n",
    "    -  The use of external Python modules is strictly prohibited unless explicitly provided.\n",
    "\n",
    "- *Grading Criteria (Possible Surprising Points: 100)*\n",
    "    - **Correctness (40%)**: The code should function as intended, producing accurate outputs.\n",
    "    - **Readability (30%)**: Code readability is essential for collaborative work in professional environments. This includes clear and consistent naming conventions for variables and functions, as well as adequate but not too lengthy commenting (pseudocodes) to explain complex logic.\n",
    "    - **Conciseness (30%)**: While readable, codes should also be concise, avoiding unnecessary complexity or redundancy. For instance, repetitive codes can be avoided by defining functions, using walrus operator, or conditional expression, list/dictionary comprehensions, etc."
   ]
  },
  {
   "cell_type": "code",
   "execution_count": 6,
   "id": "f4cd12d7-8aa2-4940-971c-307735ce078c",
   "metadata": {
    "tags": []
   },
   "outputs": [
    {
     "name": "stdout",
     "output_type": "stream",
     "text": [
      "Team No: xxx\n",
      "Team Name: xxx\n",
      "('Team Member1', 'Contribution'): ('Nicole', '100%')\n",
      "('Team Member2', 'Contribution'): ('xxx', 'xx%')\n",
      "('Team Member3', 'Contribution'): ('xxx', 'xx%')\n"
     ]
    }
   ],
   "source": [
    "# please enter your team information here\n",
    "team_info = {\n",
    "    \"Team No\": \"xxx\",\n",
    "    \"Team Name\": \"xxx\",\n",
    "    (\"Team Member1\", \"Contribution\"): (\"Nicole\", \"100%\"), # replace Nicole with your name, replace 100% with your contribution percentage.\n",
    "    (\"Team Member2\", \"Contribution\"): (\"xxx\", \"xx%\"),  # remove if not applicable\n",
    "    (\"Team Member3\", \"Contribution\"): (\"xxx\", \"xx%\")   # remove if not applicable\n",
    "}\n",
    "\n",
    "for k, v in team_info.items():\n",
    "    print(f'{k}: {v}')"
   ]
  },
  {
   "cell_type": "markdown",
   "id": "8d37ea43-1c28-4e3b-8faf-bce839bd8370",
   "metadata": {
    "tags": []
   },
   "source": [
    "- **Task Description**\n",
    "\n",
    "    - Develop a Python program to read and analyze a text file named 'Preventing Ransomware Attacks at Scale.txt'. The program will extract and analyze words based on specific criteria, such as identifying frequent terms related to cybersecurity concepts and vulnerabilities.\n",
    "    - The task is decomposed into the following subtasks:\n",
    "    \n",
    "        - 1. Use Python's file handling methods to ```open and read``` the contents of 'Preventing Ransomware Attacks at Scale.txt'.\n",
    "        - 2. Try your best to clean each line by, e.g., removing punctuations, and split it into individual words. Please handle case sensitivity, e.g., treat 'Word' and 'word' as the same word. The use of the ```string``` module is permitted. \n",
    "               \n",
    "        - 3. ```Iterate``` over the list of words.\n",
    "              - Extract and count the frequency of words that end with specific cybersecurity-related suffixes, such as:\n",
    "              \n",
    "                   -'tion' (e.g., \"implementation\", \"prevention\").\n",
    "                   \n",
    "                   -'ing' (e.g., \"attacking\", \"defending\").\n",
    "                   \n",
    "                   -'ity' (e.g., \"security\", \"complexity\").\n",
    "\n",
    "        - 4. Store and Sort Data\n",
    "               - Store the words ending with the specified suffix in separate dictionaries, with the word as the key and its frequency as the value.\n",
    "               - Convert each dictionary into a list of tuples, where each tuple contains a frequency count and the corresponding word.\n",
    "               - Sort the lists in descending order of frequency using the sort() method.\n",
    "        - 5. Get the Top 10 Words for each suffix.\n",
    "             \n",
    "        - 6. Present the top 10 words for each suffix, using f-strings for formatting the results neatly. \n",
    "             \n",
    "    \n",
    "    - Please include reasonable pseudocodes and clearly comment which concepts covered in the class you have used to develop your program."
   ]
  },
  {
   "cell_type": "code",
   "execution_count": 1,
   "id": "a8896143",
   "metadata": {
    "scrolled": true,
    "tags": []
   },
   "outputs": [
    {
     "name": "stdout",
     "output_type": "stream",
     "text": [
      "including: 3\n",
      "working: 2\n",
      "signing: 1\n",
      "shifting: 1\n",
      "scripting: 1\n",
      "scanning: 1\n",
      "rewriting: 1\n",
      "responding: 1\n",
      "reporting: 1\n",
      "procuring: 1\n"
     ]
    }
   ],
   "source": [
    "import string  # string module provides useful constants and methods to work with text\n",
    "# Define punctuation to clean words\n",
    "punctuations = string.punctuation + '“'\n",
    "\n",
    "#Dictionaries to store different word counts\n",
    "ition_word_count = {}\n",
    "\n",
    "ing_word_count = {}\n",
    "\n",
    "ity_word_count = {}\n",
    "\n",
    "\n",
    "# Open Preventing Ransomeware Attacks at Scale text doc\n",
    "with open('Preventing Ransomware Attacks at Scale.txt','r', encoding ='UTF-8')  as text:\n",
    "    for line in text:\n",
    "        # Split line into words and clean them\n",
    "        clean_words = [\n",
    "            word.strip(punctuations).lower()\n",
    "            for word in line.split()\n",
    "        ]\n",
    "        \n",
    "        # Find words ending with \"ing\"\n",
    "        for word in clean_words:\n",
    "            if word.endswith(\"ing\"):\n",
    "                # Update the count in the dictionary\n",
    "                if word in ing_word_count:\n",
    "                    ing_word_count[word] += 1\n",
    "                else:\n",
    "                    ing_word_count[word] = 1\n",
    "                    \n",
    "items=[(count, word) for word, count in ing_word_count.items()] # items() method to get the (key, value) paris from dictionary\n",
    "items.sort(reverse=True)# decending order by the first element, if the first element is equal, we will use the second element\n",
    "top_10_words=[(word, count) for count, word in items[:10]]\n",
    "\n",
    "for word, count in top_10_words: #display the top 10 words\n",
    "    print(f'{word}: {count}')\n",
    "\n",
    "\n",
    " \n",
    "\n",
    "\n",
    "    \n"
   ]
  },
  {
   "cell_type": "code",
   "execution_count": null,
   "id": "c402f4ec-380b-425c-b4ba-2e3cc2b69755",
   "metadata": {},
   "outputs": [],
   "source": []
  },
  {
   "cell_type": "code",
   "execution_count": null,
   "id": "e2c7cbab-a958-4bf0-a8d3-2f6ead3474e8",
   "metadata": {},
   "outputs": [],
   "source": []
  }
 ],
 "metadata": {
  "kernelspec": {
   "display_name": "Python 3",
   "language": "python",
   "name": "python3"
  },
  "language_info": {
   "codemirror_mode": {
    "name": "ipython",
    "version": 3
   },
   "file_extension": ".py",
   "mimetype": "text/x-python",
   "name": "python",
   "nbconvert_exporter": "python",
   "pygments_lexer": "ipython3",
   "version": "3.12.7"
  }
 },
 "nbformat": 4,
 "nbformat_minor": 5
}
