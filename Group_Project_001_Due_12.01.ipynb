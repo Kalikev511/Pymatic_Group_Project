{
 "cells": [
  {
   "cell_type": "markdown",
   "id": "215be4ee-b4f4-428e-983c-725b9af5a53f",
   "metadata": {},
   "source": [
    "# Group Project 001\n",
    "\n",
    "- *Submission Instruction*\n",
    "    - Clearly states your team number, team name, team members' first and last names and their contribution percentages.\n",
    "    - Please include **adequate comments/pseudocodes** in your script. Also, comments should also **highlight the Python concepts you adopted**. \n",
    "    - Team leader is responsible for submitting the script for the team to Canvas. You can submit either a Anaconda Cloud shared link or py/ipynb file. \n",
    "    - Script must be submitted before leaving the classroom.\n",
    "\n",
    "- *Requirements*\n",
    "    -  Must **exclusively** utilize Python concepts and techniques that have been covered in the class.\n",
    "    -  The use of external Python modules is strictly prohibited unless explicitly provided.\n",
    "\n",
    "- *Grading Criteria (Possible Surprising Points: 100)*\n",
    "    - **Correctness (40%)**: The code should function as intended, producing accurate outputs.\n",
    "    - **Readability (30%)**: Code readability is essential for collaborative work in professional environments. This includes clear and consistent naming conventions for variables and functions, as well as adequate but not too lengthy commenting (pseudocodes) to explain complex logic.\n",
    "    - **Conciseness (20%)**: While readable, codes should also be concise, avoiding unnecessary complexity or redundancy. For instance, repetitive codes can be avoided by defining functions, using walrus operator, or conditional expression, list/dictionary comprehensions, etc."
   ]
  },
  {
   "cell_type": "code",
   "execution_count": 13,
   "id": "f4cd12d7-8aa2-4940-971c-307735ce078c",
   "metadata": {
    "tags": []
   },
   "outputs": [
    {
     "name": "stdout",
     "output_type": "stream",
     "text": [
      "Team Name: Pymatic\n",
      "('Team Member1', 'Contribution'): ('Kevin', '29%')\n",
      "('Team Member2', 'Contribution'): ('Carlington', '25%')\n",
      "('Team Member3', 'Contribution'): ('Jim', '23%')\n",
      "('Team Member4', 'Contribution'): ('Erich', '23%')\n"
     ]
    }
   ],
   "source": [
    "# please enter your team information here\n",
    "team_info = {\n",
    "     \"Team Name\": \"Pymatic\",\n",
    "    (\"Team Member1\", \"Contribution\"): (\"Kevin\", \"29%\"),\n",
    "    (\"Team Member2\", \"Contribution\"): (\"Carlington\", \"25%\"),  # remove if not applicable\n",
    "    (\"Team Member3\", \"Contribution\"): (\"Jim\", \"23%\"),   # remove if not applicable\n",
    "    (\"Team Member4\", \"Contribution\"): (\"Erich\", \"23%\")   # remove if not applicable\n",
    "\n",
    "}\n",
    "\n",
    "for k, v in team_info.items():\n",
    "    print(f'{k}: {v}')"
   ]
  },
  {
   "cell_type": "markdown",
   "id": "8d37ea43-1c28-4e3b-8faf-bce839bd8370",
   "metadata": {
    "tags": []
   },
   "source": [
    "- **Task Description**\n",
    "    \n",
    "    - Develop a Python program that simulates taking orders at a café. The program will allow customers to order coffee, snacks, and beverages, take note of special requests, and calculate the total cost, including an optional tip. The system will provide a detailed receipt.\n",
    "    - The task is decomposed into the following subtasks:\n",
    "    \n",
    "        - 1. Prompt the customer to input their name and display a personalized welcome message using an f-string.\n",
    "        - 2. Provide a predefined menu of coffee, snacks, and beverages with their respective prices.\n",
    "        - 3. Continuously ask the customer for their order until they indicate they are done.\n",
    "        - 4. Allow customers to order multiple quantities of the same item.\n",
    "        - 5. Account for invalid inputs (e.g., item not on the menu or incorrect quantity).\n",
    "        - 6. Prompt the customer to add special requests (e.g., \"extra cream,\" \"no sugar\") for their coffee or beverages.\n",
    "        - 7. Use a dictionary to store the order, including item names, quantities, special requests, and total prices.\n",
    "        - 8. Calculate the total cost, including an optional tip (e.g., prompt the customer for a tip percentage).\n",
    "        - 9. Print a detailed receipt showing each item, its quantity, special requests, and price.\n",
    "        - 10. Include the subtotal, tip amount (if applicable), and the grand total.\n",
    "    \n",
    "    - Please include reasonable pseudocodes and clearly comment which concepts covered in the class you have used to develop your program."
   ]
  },
  {
   "cell_type": "code",
   "execution_count": null,
   "id": "dd5c9c5e-a4ab-4207-a94f-05177b16f8a4",
   "metadata": {},
   "outputs": [],
   "source": [
    "# Menu items\n",
    "menu = {\n",
    "        \"Espresso\": 3.00,\n",
    "        \"Latte\": 4.50,\n",
    "        \"Cappuccino\": 4.00,\n",
    "        \"Mocha\": 4.75,\n",
    "        \"Hot Chocolate\": 3.50,\n",
    "        \"Croissant\": 2.75,\n",
    "        \"Blueberry Muffin\": 3.25,\n",
    "        \"Bagel\": 2.50,\n",
    "        \"Orange Juice\": 2.75,\n",
    "        \"Smoothie\": 4.25\n",
    "    }"
   ]
  },
  {
   "cell_type": "code",
   "execution_count": null,
   "id": "a8896143",
   "metadata": {},
   "outputs": [
    {
     "name": "stdout",
     "output_type": "stream",
     "text": [
      "\n",
      "------------- MENU -----------------\n",
      "Espresso - $3.0\n",
      "Latte - $4.5\n",
      "Cappuccino - $4.0\n",
      "Mocha - $4.75\n",
      "Hot Chocolate - $3.5\n",
      "Croissant - $2.75\n",
      "Blueberry Muffin - $3.25\n",
      "Bagel - $2.5\n",
      "Orange Juice - $2.75\n",
      "Smoothie - $4.25\n",
      "Welcome Kevin, What would you like to order? \n",
      "\n",
      "------------- RECEIPT -----------------\n",
      "Thanks for your order, Kevin! Here is your receipt:\n",
      "Espresso-3.0\n",
      "Mocha-4.75\n",
      "Bagel-2.5\n",
      "Blueberry Muffin-3.25\n",
      "Your total is: $13.50\n"
     ]
    }
   ],
   "source": [
    "# Display a welcome message and prompt for the customer's name -KA\n",
    "name = input(\"Hello! Welcome to our café. Please enter your name: \")\n",
    "print(f\"Hi {name}, it's great to have you here!\")\n",
    "\n",
    "# Display the menu -KA\n",
    "print(\"\\n------------- MENU -----------------\")\n",
    "for item, price in menu.items(): \n",
    "    print(f\"{item}: ${price:.2f}\")\n",
    "\n",
    "# Initialize variables to store order details -KA\n",
    "order = {}  # Stores items, quantities, special requests, and prices\n",
    "subtotal = 0  # Running total for the order\n",
    "\n",
    "# Take customer orders in a loop -CM\n",
    "while True:\n",
    "    item = input(\"\\nWhat would you like to order? \").strip()\n",
    "    if item in menu:\n",
    "        # Step 5: Prompt for the quantity -CM\n",
    "        try:\n",
    "            quantity = int(input(f\"How many {item}(s) would you like? \"))\n",
    "            if quantity < 1:\n",
    "                print(\"Please enter a valid quantity.\")\n",
    "                continue\n",
    "        except ValueError:\n",
    "            print(\"Invalid input. Please enter a number.\")\n",
    "            continue\n",
    "\n",
    "        # Ask for special requests -CM\n",
    "        special_request = input(f\"Any special requests for your {item}? (e.g., 'extra cream', 'no sugar') \").strip()\n",
    "\n",
    "        # Calculate cost for this item -JC\n",
    "        item_total = menu[item] * quantity\n",
    "\n",
    "        # Add details to the order dictionary -JC\n",
    "        order[item] = {\n",
    "            \"quantity\": quantity,\n",
    "            \"special_request\": special_request if special_request else \"None\",\n",
    "            \"item_total\": item_total\n",
    "        }\n",
    "\n",
    "        # Update subtotal -JC\n",
    "        subtotal += item_total\n",
    "    else:\n",
    "        print(\"Sorry, that item is not on the menu. Please try again.\")\n",
    "\n",
    "    # Ask if the customer wants to order more items -EM\n",
    "    another = input(\"Would you like to order another item? (yes/no) \").strip().lower()\n",
    "    if another != \"yes\":\n",
    "        break\n",
    "\n",
    "# Prompt for a tip - EM\n",
    "print(\"\\nWould you like to leave a tip?\")\n",
    "try:\n",
    "    tip_percentage = int(input(\"Enter a tip percentage (e.g., 10 for 10%): \"))\n",
    "    tip_amount = (tip_percentage / 100) * subtotal\n",
    "except ValueError:\n",
    "    print(\"Invalid input. No tip will be added.\")\n",
    "    tip_amount = 0\n",
    "\n",
    "# Calculate the grand total -EM\n",
    "grand_total = subtotal + tip_amount\n",
    "\n",
    "# Display the receipt -KA\n",
    "print(\"\\n------------- RECEIPT -----------------\")\n",
    "print(f\"Thanks for your order, {name}! Here's your receipt:\")\n",
    "for item, details in order.items():\n",
    "    print(f\"{item} x{details['quantity']} (${menu[item]:.2f} each)\")\n",
    "    print(f\"   Special Request: {details['special_request']}\")\n",
    "    print(f\"   Total for {item}: ${details['item_total']:.2f}\")\n",
    "print(f\"\\nSubtotal: ${subtotal:.2f}\")\n",
    "print(f\"Tip: ${tip_amount:.2f}\")\n",
    "print(f\"Grand Total: ${grand_total:.2f}\")\n"
   ]
  },
  {
   "cell_type": "code",
   "execution_count": null,
   "id": "0cc0e411",
   "metadata": {},
   "outputs": [],
   "source": []
  }
 ],
 "metadata": {
  "kernelspec": {
   "display_name": "Python 3 (ipykernel)",
   "language": "python",
   "name": "python3"
  },
  "language_info": {
   "codemirror_mode": {
    "name": "ipython",
    "version": 3
   },
   "file_extension": ".py",
   "mimetype": "text/x-python",
   "name": "python",
   "nbconvert_exporter": "python",
   "pygments_lexer": "ipython3",
   "version": "3.12.1"
  }
 },
 "nbformat": 4,
 "nbformat_minor": 5
}
